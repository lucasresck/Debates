{
 "cells": [
  {
   "cell_type": "code",
   "execution_count": 269,
   "metadata": {},
   "outputs": [],
   "source": [
    "import pandas as pd\n",
    "import numpy as np\n",
    "import random\n",
    "import math"
   ]
  },
  {
   "cell_type": "code",
   "execution_count": 270,
   "metadata": {},
   "outputs": [],
   "source": [
    "nderodadas = 3 #Fixo\n",
    "ndeduplas = 32 #Pode variar\n",
    "ndesalas = ndeduplas / 4"
   ]
  },
  {
   "cell_type": "code",
   "execution_count": 279,
   "metadata": {},
   "outputs": [],
   "source": [
    "def leitura():\n",
    "    \n",
    "    #Leitura dos juízes e das duplas\n",
    "\n",
    "    duplas = pd.read_excel(\"GV Debate.xlsx\", sheet_name = \"Duplas\")\n",
    "    juizes = pd.read_excel(\"GV Debate.xlsx\", sheet_name = \"Juízes\")\n",
    "    \n",
    "    #Leitura das salas\n",
    "    \n",
    "    salas = [0]\n",
    "    for sala in range(1, int(ndesalas) * nderodadas + 1):\n",
    "        salas.append(pd.read_excel(\"GV Debate.xlsx\", sheet_name = str(sala)))\n",
    "    \n",
    "    #Leitura das ocorrencias        \n",
    "        \n",
    "    ndewings = juizes[\"#\"][juizes[\"#\"] < 200].size\n",
    "    ndechairs = juizes[\"#\"][juizes[\"#\"] >= 200].size\n",
    "\n",
    "    wingwing = np.zeros(ndewings ** 2).reshape(ndewings, ndewings)\n",
    "    wingchair = np.zeros(ndewings * ndechairs).reshape(ndewings, ndechairs)\n",
    "    wingdupla = np.zeros(ndewings * ndeduplas).reshape(ndewings, ndeduplas)\n",
    "\n",
    "    for sala in range(1, int(ndesalas) * nderodadas + 1):\n",
    "        duplasnestasala = salas[sala][\"#\"]\n",
    "        juizesnestasala = salas[sala][\"Juízes\"]\n",
    "        chairsnestasala = juizesnestasala[juizesnestasala >= 200].values\n",
    "        wingsnestasala = juizesnestasala[juizesnestasala < 200].values\n",
    "\n",
    "        if len(wingsnestasala) > 0:\n",
    "            for wing1 in range(0, len(wingsnestasala)):\n",
    "                for wing2 in range(wing1 + 1, len(wingsnestasala)):\n",
    "                    if wingsnestasala[wing1] > wingsnestasala[wing2]:\n",
    "                        wingwing[int(wingsnestasala[wing1]) - 100 - 1][int(wingsnestasala[wing2]) - 100 - 1] = wingwing[int(wingsnestasala[wing1]) - 100 - 1][int(wingsnestasala[wing2]) - 100 - 1] + 1\n",
    "                    else:\n",
    "                        wingwing[int(wingsnestasala[wing2]) - 100 - 1][int(wingsnestasala[wing1]) - 100 - 1] = wingwing[int(wingsnestasala[wing2]) - 100 - 1][int(wingsnestasala[wing1]) - 100 - 1] + 1\n",
    "\n",
    "\n",
    "        if len(wingsnestasala) > 0 and len(chairsnestasala) > 0:\n",
    "            for wing in range(0, len(wingsnestasala)):\n",
    "                wingchair[int(wingsnestasala[wing]) - 100 - 1][int(chairsnestasala[0]) - 200 - 1] = wingchair[int(wingsnestasala[wing]) - 100 - 1][int(chairsnestasala[0]) - 200 - 1] + 1\n",
    "\n",
    "        if len(wingsnestasala) > 0 and len(duplasnestasala) > 0:\n",
    "            for wing in range(0, len(wingsnestasala)):\n",
    "                for dupla in range(0, len(duplasnestasala)):\n",
    "                    wingdupla[int(wingsnestasala[wing]) - 100 - 1][int(duplasnestasala[dupla]) - 1] = wingdupla[int(wingsnestasala[wing]) - 100 - 1][int(duplasnestasala[dupla]) - 1] + 1\n",
    "            \n",
    "    #Leitura das restrições        \n",
    "            \n",
    "    restricoes = pd.read_excel(\"GV Debate.xlsx\", sheet_name = \"Restrição de juízes\")    \n",
    "        \n",
    "    return duplas, juizes, salas, wingwing, wingchair, wingdupla, restricoes"
   ]
  },
  {
   "cell_type": "code",
   "execution_count": 280,
   "metadata": {},
   "outputs": [],
   "source": [
    "#Sorteio das duplas e juizes\n",
    "\n",
    "def sorteio():\n",
    "\n",
    "    sortduplas = np.array(duplas[\"#\"][duplas[\"#\"] > 0].values)\n",
    "    random.shuffle(sortduplas)\n",
    "\n",
    "    sortchairs = np.array(juizes[\"#\"][juizes[\"#\"] >= 200].values)\n",
    "    random.shuffle(sortchairs)\n",
    "\n",
    "    sortwings = np.array(juizes[\"#\"][juizes[\"#\"] < 200].values)\n",
    "    random.shuffle(sortwings)\n",
    "    \n",
    "    return sortduplas, sortchairs, sortwings"
   ]
  },
  {
   "cell_type": "code",
   "execution_count": null,
   "metadata": {},
   "outputs": [],
   "source": [
    "for i in range(0, 1000):\n",
    "    sortduplas, sortchairs, sortwings = sorteio()\n",
    "    for sala in range(1, ndesalas + 1):\n",
    "        \n",
    "        #wingwing\n",
    "        qtdewingssala = math.ceil(ndewings / ndesalas)\n",
    "        wingwingaux = np.array(wingwing)\n",
    "        for wing1 in range(0, qtdewingssala):\n",
    "            for wing2 in range(wing1 + 1, qtdewingssala):\n",
    "                if sortwings[wing1] > sortwings[wing2]:\n",
    "                    wingwingaux[int(sortwings[wing1]) - 100 - 1][int(sortwings[wing2]) - 100 - 1] = wingwingaux[int(sortwings[wing1]) - 100 - 1][int(sortwings[wing2]) - 100 - 1] + 1\n",
    "                else:\n",
    "                    wingwingaux[int(sortwings[wing2]) - 100 - 1][int(sortwings[wing1]) - 100 - 1] = wingwingaux[int(sortwings[wing2]) - 100 - 1][int(sortwings[wing1]) - 100 - 1] + 1\n",
    "        \n",
    "        "
   ]
  },
  {
   "cell_type": "code",
   "execution_count": 281,
   "metadata": {},
   "outputs": [],
   "source": [
    "duplas, juizes, salas, wingwing, wingchair, wingdupla, restricoes = leitura()"
   ]
  },
  {
   "cell_type": "code",
   "execution_count": 278,
   "metadata": {},
   "outputs": [
    {
     "data": {
      "text/plain": [
       "array([[0., 0., 0., 0., 0., 0., 0., 0., 0., 0., 0., 0., 0., 0.],\n",
       "       [0., 0., 0., 0., 0., 0., 0., 0., 0., 0., 0., 0., 0., 0.],\n",
       "       [0., 0., 0., 0., 0., 0., 0., 0., 0., 0., 0., 0., 0., 0.],\n",
       "       [0., 1., 0., 0., 0., 0., 0., 0., 0., 0., 0., 0., 0., 0.],\n",
       "       [0., 0., 0., 0., 0., 0., 0., 0., 0., 0., 0., 0., 0., 0.],\n",
       "       [0., 1., 0., 0., 0., 0., 0., 0., 0., 0., 0., 0., 0., 0.],\n",
       "       [0., 1., 0., 0., 0., 0., 0., 0., 0., 0., 0., 0., 0., 0.],\n",
       "       [0., 0., 0., 0., 0., 0., 0., 0., 0., 0., 0., 0., 0., 0.],\n",
       "       [0., 0., 0., 0., 0., 0., 0., 0., 0., 0., 0., 0., 0., 0.],\n",
       "       [0., 0., 0., 0., 0., 0., 0., 0., 0., 0., 0., 0., 0., 0.],\n",
       "       [0., 0., 0., 0., 0., 0., 0., 0., 0., 0., 0., 0., 0., 0.],\n",
       "       [0., 0., 0., 0., 0., 0., 0., 0., 0., 0., 0., 0., 0., 0.],\n",
       "       [0., 0., 0., 0., 0., 0., 0., 0., 0., 0., 0., 0., 0., 0.],\n",
       "       [0., 0., 1., 0., 0., 0., 0., 0., 0., 0., 0., 0., 0., 0.]])"
      ]
     },
     "execution_count": 278,
     "metadata": {},
     "output_type": "execute_result"
    }
   ],
   "source": [
    "wingwing"
   ]
  },
  {
   "cell_type": "code",
   "execution_count": null,
   "metadata": {},
   "outputs": [],
   "source": []
  }
 ],
 "metadata": {
  "kernelspec": {
   "display_name": "Python 3",
   "language": "python",
   "name": "python3"
  },
  "language_info": {
   "codemirror_mode": {
    "name": "ipython",
    "version": 3
   },
   "file_extension": ".py",
   "mimetype": "text/x-python",
   "name": "python",
   "nbconvert_exporter": "python",
   "pygments_lexer": "ipython3",
   "version": "3.5.2"
  }
 },
 "nbformat": 4,
 "nbformat_minor": 2
}
